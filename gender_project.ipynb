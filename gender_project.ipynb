{
 "cells": [
  {
   "cell_type": "markdown",
   "metadata": {},
   "source": [
    "MAX"
   ]
  },
  {
   "cell_type": "code",
   "execution_count": 2,
   "metadata": {},
   "outputs": [],
   "source": [
    "import pandas as pd\n",
    "import sklearn as sk "
   ]
  },
  {
   "cell_type": "code",
   "execution_count": 23,
   "metadata": {},
   "outputs": [
    {
     "data": {
      "text/html": [
       "<div>\n",
       "<style scoped>\n",
       "    .dataframe tbody tr th:only-of-type {\n",
       "        vertical-align: middle;\n",
       "    }\n",
       "\n",
       "    .dataframe tbody tr th {\n",
       "        vertical-align: top;\n",
       "    }\n",
       "\n",
       "    .dataframe thead th {\n",
       "        text-align: right;\n",
       "    }\n",
       "</style>\n",
       "<table border=\"1\" class=\"dataframe\">\n",
       "  <thead>\n",
       "    <tr style=\"text-align: right;\">\n",
       "      <th></th>\n",
       "      <th>client_id</th>\n",
       "      <th>trans_time</th>\n",
       "      <th>mcc_code</th>\n",
       "      <th>trans_type</th>\n",
       "      <th>amount</th>\n",
       "      <th>term_id</th>\n",
       "      <th>trans_city</th>\n",
       "    </tr>\n",
       "  </thead>\n",
       "  <tbody>\n",
       "    <tr>\n",
       "      <th>0</th>\n",
       "      <td>d1bbbc9a0e0410d3cf12a3d2f44f3450</td>\n",
       "      <td>35 08:24:41</td>\n",
       "      <td>4829</td>\n",
       "      <td>2370</td>\n",
       "      <td>-1808.56</td>\n",
       "      <td>NaN</td>\n",
       "      <td>Tver</td>\n",
       "    </tr>\n",
       "    <tr>\n",
       "      <th>1</th>\n",
       "      <td>81c7349f7bdcb661bc7d5f5f0fdac6aa</td>\n",
       "      <td>351 13:27:15</td>\n",
       "      <td>6011</td>\n",
       "      <td>7010</td>\n",
       "      <td>7954.51</td>\n",
       "      <td>442207</td>\n",
       "      <td>Kazan</td>\n",
       "    </tr>\n",
       "    <tr>\n",
       "      <th>2</th>\n",
       "      <td>fc0c7c937f139bd6d1c5b5d0a0023dd3</td>\n",
       "      <td>150 16:03:59</td>\n",
       "      <td>6011</td>\n",
       "      <td>2010</td>\n",
       "      <td>-12293.56</td>\n",
       "      <td>NaN</td>\n",
       "      <td>Khabarovsk</td>\n",
       "    </tr>\n",
       "    <tr>\n",
       "      <th>3</th>\n",
       "      <td>3495487d5beaa5caaa0682fddc38379a</td>\n",
       "      <td>373 11:54:12</td>\n",
       "      <td>6010</td>\n",
       "      <td>7070</td>\n",
       "      <td>49.52</td>\n",
       "      <td>888987</td>\n",
       "      <td>Kaliningrad</td>\n",
       "    </tr>\n",
       "    <tr>\n",
       "      <th>4</th>\n",
       "      <td>07e279042b1da23710fa2f65034d30b9</td>\n",
       "      <td>340 13:11:45</td>\n",
       "      <td>6010</td>\n",
       "      <td>7070</td>\n",
       "      <td>45.29</td>\n",
       "      <td>888918</td>\n",
       "      <td>Saint Petersburg</td>\n",
       "    </tr>\n",
       "    <tr>\n",
       "      <th>...</th>\n",
       "      <td>...</td>\n",
       "      <td>...</td>\n",
       "      <td>...</td>\n",
       "      <td>...</td>\n",
       "      <td>...</td>\n",
       "      <td>...</td>\n",
       "      <td>...</td>\n",
       "    </tr>\n",
       "    <tr>\n",
       "      <th>3563524</th>\n",
       "      <td>e91858185ae43cf3970220748893a01b</td>\n",
       "      <td>328 13:45:38</td>\n",
       "      <td>6010</td>\n",
       "      <td>7070</td>\n",
       "      <td>227.40</td>\n",
       "      <td>888907</td>\n",
       "      <td>Penza</td>\n",
       "    </tr>\n",
       "    <tr>\n",
       "      <th>3563525</th>\n",
       "      <td>429b6c8255f13bdb506fdbd6e342ccb1</td>\n",
       "      <td>10 19:22:35</td>\n",
       "      <td>4814</td>\n",
       "      <td>1030</td>\n",
       "      <td>-1084.44</td>\n",
       "      <td>NaN</td>\n",
       "      <td>Khabarovsk</td>\n",
       "    </tr>\n",
       "    <tr>\n",
       "      <th>3563526</th>\n",
       "      <td>9443b6a0d948cf368d8d72eb295bdfdf</td>\n",
       "      <td>167 23:59:15</td>\n",
       "      <td>5411</td>\n",
       "      <td>1110</td>\n",
       "      <td>-569.20</td>\n",
       "      <td>NaN</td>\n",
       "      <td>Tver</td>\n",
       "    </tr>\n",
       "    <tr>\n",
       "      <th>3563527</th>\n",
       "      <td>1be75d38ad89c0f2b4d85b95f0fd8069</td>\n",
       "      <td>101 23:59:03</td>\n",
       "      <td>5814</td>\n",
       "      <td>1110</td>\n",
       "      <td>-71.43</td>\n",
       "      <td>NaN</td>\n",
       "      <td>Vladivostok</td>\n",
       "    </tr>\n",
       "    <tr>\n",
       "      <th>3563528</th>\n",
       "      <td>8d69e4ecae4b509d528b9a0168f749d0</td>\n",
       "      <td>148 19:12:04</td>\n",
       "      <td>6010</td>\n",
       "      <td>7070</td>\n",
       "      <td>50.92</td>\n",
       "      <td>NaN</td>\n",
       "      <td>Kazan</td>\n",
       "    </tr>\n",
       "  </tbody>\n",
       "</table>\n",
       "<p>3563529 rows × 7 columns</p>\n",
       "</div>"
      ],
      "text/plain": [
       "                                client_id    trans_time  mcc_code  trans_type  \\\n",
       "0        d1bbbc9a0e0410d3cf12a3d2f44f3450   35 08:24:41      4829        2370   \n",
       "1        81c7349f7bdcb661bc7d5f5f0fdac6aa  351 13:27:15      6011        7010   \n",
       "2        fc0c7c937f139bd6d1c5b5d0a0023dd3  150 16:03:59      6011        2010   \n",
       "3        3495487d5beaa5caaa0682fddc38379a  373 11:54:12      6010        7070   \n",
       "4        07e279042b1da23710fa2f65034d30b9  340 13:11:45      6010        7070   \n",
       "...                                   ...           ...       ...         ...   \n",
       "3563524  e91858185ae43cf3970220748893a01b  328 13:45:38      6010        7070   \n",
       "3563525  429b6c8255f13bdb506fdbd6e342ccb1   10 19:22:35      4814        1030   \n",
       "3563526  9443b6a0d948cf368d8d72eb295bdfdf  167 23:59:15      5411        1110   \n",
       "3563527  1be75d38ad89c0f2b4d85b95f0fd8069  101 23:59:03      5814        1110   \n",
       "3563528  8d69e4ecae4b509d528b9a0168f749d0  148 19:12:04      6010        7070   \n",
       "\n",
       "           amount term_id        trans_city  \n",
       "0        -1808.56     NaN              Tver  \n",
       "1         7954.51  442207             Kazan  \n",
       "2       -12293.56     NaN        Khabarovsk  \n",
       "3           49.52  888987       Kaliningrad  \n",
       "4           45.29  888918  Saint Petersburg  \n",
       "...           ...     ...               ...  \n",
       "3563524    227.40  888907             Penza  \n",
       "3563525  -1084.44     NaN        Khabarovsk  \n",
       "3563526   -569.20     NaN              Tver  \n",
       "3563527    -71.43     NaN       Vladivostok  \n",
       "3563528     50.92     NaN             Kazan  \n",
       "\n",
       "[3563529 rows x 7 columns]"
      ]
     },
     "execution_count": 23,
     "metadata": {},
     "output_type": "execute_result"
    }
   ],
   "source": [
    "transactions = pd.read_csv(\"C:\\codding\\Data_Hack\\Sber hack\\\\transactions.csv\")\n",
    "transactions"
   ]
  },
  {
   "cell_type": "code",
   "execution_count": 15,
   "metadata": {},
   "outputs": [
    {
     "name": "stdout",
     "output_type": "stream",
     "text": [
      "Number of unique mcc codes is 184, number of unique trans_t codes is 73\n"
     ]
    }
   ],
   "source": [
    "mcc_unique_num = transactions[\"mcc_code\"].nunique()\n",
    "trans_t_unique_num = transactions[\"trans_type\"].nunique()\n",
    "\n",
    "print(f\"Number of unique mcc codes is {mcc_unique_num}, number of unique trans_t codes is {trans_t_unique_num}\")"
   ]
  },
  {
   "cell_type": "code",
   "execution_count": 5,
   "metadata": {},
   "outputs": [
    {
     "name": "stdout",
     "output_type": "stream",
     "text": [
      "Number of unique cities is 10\n"
     ]
    }
   ],
   "source": [
    "city_unique_num = transactions[\"trans_city\"].nunique()\n",
    "\n",
    "print(f\"Number of unique cities is {city_unique_num}\")"
   ]
  },
  {
   "cell_type": "code",
   "execution_count": 21,
   "metadata": {},
   "outputs": [
    {
     "name": "stdout",
     "output_type": "stream",
     "text": [
      "Number of unique IDs is 8384\n"
     ]
    }
   ],
   "source": [
    "id_unique_num = transactions[\"client_id\"].nunique()\n",
    "\n",
    "print(f\"Number of unique IDs is {id_unique_num}\")"
   ]
  },
  {
   "cell_type": "code",
   "execution_count": 6,
   "metadata": {},
   "outputs": [],
   "source": [
    "train = pd.read_csv(\"C:\\codding\\Data_Hack\\Sber hack\\hse_sber_hack\\\\train.csv\")"
   ]
  },
  {
   "cell_type": "code",
   "execution_count": 7,
   "metadata": {},
   "outputs": [],
   "source": [
    "transactions_merged = transactions.merge(right=train)"
   ]
  },
  {
   "cell_type": "code",
   "execution_count": 16,
   "metadata": {},
   "outputs": [
    {
     "data": {
      "text/html": [
       "<div>\n",
       "<style scoped>\n",
       "    .dataframe tbody tr th:only-of-type {\n",
       "        vertical-align: middle;\n",
       "    }\n",
       "\n",
       "    .dataframe tbody tr th {\n",
       "        vertical-align: top;\n",
       "    }\n",
       "\n",
       "    .dataframe thead th {\n",
       "        text-align: right;\n",
       "    }\n",
       "</style>\n",
       "<table border=\"1\" class=\"dataframe\">\n",
       "  <thead>\n",
       "    <tr style=\"text-align: right;\">\n",
       "      <th></th>\n",
       "      <th>client_id</th>\n",
       "      <th>trans_time</th>\n",
       "      <th>mcc_code</th>\n",
       "      <th>trans_type</th>\n",
       "      <th>amount</th>\n",
       "      <th>term_id</th>\n",
       "      <th>trans_city</th>\n",
       "      <th>Unnamed: 0</th>\n",
       "      <th>gender</th>\n",
       "    </tr>\n",
       "  </thead>\n",
       "  <tbody>\n",
       "    <tr>\n",
       "      <th>0</th>\n",
       "      <td>d1bbbc9a0e0410d3cf12a3d2f44f3450</td>\n",
       "      <td>35 08:24:41</td>\n",
       "      <td>4829</td>\n",
       "      <td>2370</td>\n",
       "      <td>-1808.56</td>\n",
       "      <td>NaN</td>\n",
       "      <td>Tver</td>\n",
       "      <td>7196</td>\n",
       "      <td>0</td>\n",
       "    </tr>\n",
       "    <tr>\n",
       "      <th>1</th>\n",
       "      <td>d1bbbc9a0e0410d3cf12a3d2f44f3450</td>\n",
       "      <td>105 12:57:32</td>\n",
       "      <td>4829</td>\n",
       "      <td>2370</td>\n",
       "      <td>-3390.41</td>\n",
       "      <td>NaN</td>\n",
       "      <td>Tver</td>\n",
       "      <td>7196</td>\n",
       "      <td>0</td>\n",
       "    </tr>\n",
       "    <tr>\n",
       "      <th>2</th>\n",
       "      <td>d1bbbc9a0e0410d3cf12a3d2f44f3450</td>\n",
       "      <td>455 19:32:01</td>\n",
       "      <td>4814</td>\n",
       "      <td>1030</td>\n",
       "      <td>-144.50</td>\n",
       "      <td>889003</td>\n",
       "      <td>Tver</td>\n",
       "      <td>7196</td>\n",
       "      <td>0</td>\n",
       "    </tr>\n",
       "    <tr>\n",
       "      <th>3</th>\n",
       "      <td>d1bbbc9a0e0410d3cf12a3d2f44f3450</td>\n",
       "      <td>83 09:22:26</td>\n",
       "      <td>6011</td>\n",
       "      <td>2010</td>\n",
       "      <td>-3542.30</td>\n",
       "      <td>NaN</td>\n",
       "      <td>Tver</td>\n",
       "      <td>7196</td>\n",
       "      <td>0</td>\n",
       "    </tr>\n",
       "    <tr>\n",
       "      <th>4</th>\n",
       "      <td>d1bbbc9a0e0410d3cf12a3d2f44f3450</td>\n",
       "      <td>74 13:31:57</td>\n",
       "      <td>6011</td>\n",
       "      <td>2010</td>\n",
       "      <td>-3542.70</td>\n",
       "      <td>NaN</td>\n",
       "      <td>Tver</td>\n",
       "      <td>7196</td>\n",
       "      <td>0</td>\n",
       "    </tr>\n",
       "    <tr>\n",
       "      <th>...</th>\n",
       "      <td>...</td>\n",
       "      <td>...</td>\n",
       "      <td>...</td>\n",
       "      <td>...</td>\n",
       "      <td>...</td>\n",
       "      <td>...</td>\n",
       "      <td>...</td>\n",
       "      <td>...</td>\n",
       "      <td>...</td>\n",
       "    </tr>\n",
       "    <tr>\n",
       "      <th>95</th>\n",
       "      <td>d1bbbc9a0e0410d3cf12a3d2f44f3450</td>\n",
       "      <td>154 14:50:37</td>\n",
       "      <td>5814</td>\n",
       "      <td>1010</td>\n",
       "      <td>-287.67</td>\n",
       "      <td>NaN</td>\n",
       "      <td>Tver</td>\n",
       "      <td>7196</td>\n",
       "      <td>0</td>\n",
       "    </tr>\n",
       "    <tr>\n",
       "      <th>96</th>\n",
       "      <td>d1bbbc9a0e0410d3cf12a3d2f44f3450</td>\n",
       "      <td>143 11:03:47</td>\n",
       "      <td>5211</td>\n",
       "      <td>1110</td>\n",
       "      <td>-378.97</td>\n",
       "      <td>NaN</td>\n",
       "      <td>Tver</td>\n",
       "      <td>7196</td>\n",
       "      <td>0</td>\n",
       "    </tr>\n",
       "    <tr>\n",
       "      <th>97</th>\n",
       "      <td>d1bbbc9a0e0410d3cf12a3d2f44f3450</td>\n",
       "      <td>4 13:07:51</td>\n",
       "      <td>4829</td>\n",
       "      <td>2370</td>\n",
       "      <td>-2833.84</td>\n",
       "      <td>NaN</td>\n",
       "      <td>Tver</td>\n",
       "      <td>7196</td>\n",
       "      <td>0</td>\n",
       "    </tr>\n",
       "    <tr>\n",
       "      <th>98</th>\n",
       "      <td>d1bbbc9a0e0410d3cf12a3d2f44f3450</td>\n",
       "      <td>374 12:43:05</td>\n",
       "      <td>6011</td>\n",
       "      <td>2010</td>\n",
       "      <td>-434.58</td>\n",
       "      <td>954125</td>\n",
       "      <td>Tver</td>\n",
       "      <td>7196</td>\n",
       "      <td>0</td>\n",
       "    </tr>\n",
       "    <tr>\n",
       "      <th>99</th>\n",
       "      <td>d1bbbc9a0e0410d3cf12a3d2f44f3450</td>\n",
       "      <td>389 15:03:30</td>\n",
       "      <td>6011</td>\n",
       "      <td>2010</td>\n",
       "      <td>-2530.56</td>\n",
       "      <td>954121</td>\n",
       "      <td>Tver</td>\n",
       "      <td>7196</td>\n",
       "      <td>0</td>\n",
       "    </tr>\n",
       "  </tbody>\n",
       "</table>\n",
       "<p>100 rows × 9 columns</p>\n",
       "</div>"
      ],
      "text/plain": [
       "                           client_id    trans_time  mcc_code  trans_type  \\\n",
       "0   d1bbbc9a0e0410d3cf12a3d2f44f3450   35 08:24:41      4829        2370   \n",
       "1   d1bbbc9a0e0410d3cf12a3d2f44f3450  105 12:57:32      4829        2370   \n",
       "2   d1bbbc9a0e0410d3cf12a3d2f44f3450  455 19:32:01      4814        1030   \n",
       "3   d1bbbc9a0e0410d3cf12a3d2f44f3450   83 09:22:26      6011        2010   \n",
       "4   d1bbbc9a0e0410d3cf12a3d2f44f3450   74 13:31:57      6011        2010   \n",
       "..                               ...           ...       ...         ...   \n",
       "95  d1bbbc9a0e0410d3cf12a3d2f44f3450  154 14:50:37      5814        1010   \n",
       "96  d1bbbc9a0e0410d3cf12a3d2f44f3450  143 11:03:47      5211        1110   \n",
       "97  d1bbbc9a0e0410d3cf12a3d2f44f3450    4 13:07:51      4829        2370   \n",
       "98  d1bbbc9a0e0410d3cf12a3d2f44f3450  374 12:43:05      6011        2010   \n",
       "99  d1bbbc9a0e0410d3cf12a3d2f44f3450  389 15:03:30      6011        2010   \n",
       "\n",
       "     amount term_id trans_city  Unnamed: 0  gender  \n",
       "0  -1808.56     NaN       Tver        7196       0  \n",
       "1  -3390.41     NaN       Tver        7196       0  \n",
       "2   -144.50  889003       Tver        7196       0  \n",
       "3  -3542.30     NaN       Tver        7196       0  \n",
       "4  -3542.70     NaN       Tver        7196       0  \n",
       "..      ...     ...        ...         ...     ...  \n",
       "95  -287.67     NaN       Tver        7196       0  \n",
       "96  -378.97     NaN       Tver        7196       0  \n",
       "97 -2833.84     NaN       Tver        7196       0  \n",
       "98  -434.58  954125       Tver        7196       0  \n",
       "99 -2530.56  954121       Tver        7196       0  \n",
       "\n",
       "[100 rows x 9 columns]"
      ]
     },
     "execution_count": 16,
     "metadata": {},
     "output_type": "execute_result"
    }
   ],
   "source": [
    "transactions_merged.head(100)"
   ]
  },
  {
   "cell_type": "code",
   "execution_count": 17,
   "metadata": {},
   "outputs": [
    {
     "data": {
      "text/plain": [
       "7560"
      ]
     },
     "execution_count": 17,
     "metadata": {},
     "output_type": "execute_result"
    }
   ],
   "source": [
    "transactions_merged['client_id'].nunique()"
   ]
  },
  {
   "cell_type": "code",
   "execution_count": 18,
   "metadata": {},
   "outputs": [
    {
     "data": {
      "text/plain": [
       "0     [35, 08:24:41]\n",
       "1    [105, 12:57:32]\n",
       "2    [455, 19:32:01]\n",
       "3     [83, 09:22:26]\n",
       "4     [74, 13:31:57]\n",
       "Name: trans_time, dtype: object"
      ]
     },
     "execution_count": 18,
     "metadata": {},
     "output_type": "execute_result"
    }
   ],
   "source": [
    "split_date = transactions_merged[\"trans_time\"].str.split(' ')\n",
    "split_date.head()"
   ]
  },
  {
   "cell_type": "code",
   "execution_count": 19,
   "metadata": {},
   "outputs": [],
   "source": [
    "somename = pd.read_csv(\"C:\\codding\\Data_Hack\\Sber hack\\hse_sber_hack\\\\test.csv\")"
   ]
  }
 ],
 "metadata": {
  "hide_input": false,
  "kernelspec": {
   "display_name": "Python 3 (ipykernel)",
   "language": "python",
   "name": "python3"
  },
  "language_info": {
   "codemirror_mode": {
    "name": "ipython",
    "version": 3
   },
   "file_extension": ".py",
   "mimetype": "text/x-python",
   "name": "python",
   "nbconvert_exporter": "python",
   "pygments_lexer": "ipython3",
   "version": "3.11.6"
  },
  "varInspector": {
   "cols": {
    "lenName": 16,
    "lenType": 16,
    "lenVar": 40
   },
   "kernels_config": {
    "python": {
     "delete_cmd_postfix": "",
     "delete_cmd_prefix": "del ",
     "library": "var_list.py",
     "varRefreshCmd": "print(var_dic_list())"
    },
    "r": {
     "delete_cmd_postfix": ") ",
     "delete_cmd_prefix": "rm(",
     "library": "var_list.r",
     "varRefreshCmd": "cat(var_dic_list()) "
    }
   },
   "types_to_exclude": [
    "module",
    "function",
    "builtin_function_or_method",
    "instance",
    "_Feature"
   ],
   "window_display": false
  }
 },
 "nbformat": 4,
 "nbformat_minor": 4
}
